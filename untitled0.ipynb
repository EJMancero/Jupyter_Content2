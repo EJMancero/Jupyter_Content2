{
  "nbformat": 4,
  "nbformat_minor": 0,
  "metadata": {
    "colab": {
      "name": "Linear Regression.ipynb",
      "provenance": [],
      "collapsed_sections": [],
      "authorship_tag": "ABX9TyPvzBchsylkiK42jo8VL2nq",
      "include_colab_link": true
    },
    "kernelspec": {
      "name": "python3",
      "display_name": "Python 3"
    }
  },
  "cells": [
    {
      "cell_type": "markdown",
      "metadata": {
        "id": "view-in-github",
        "colab_type": "text"
      },
      "source": [
        "<a href=\"https://colab.research.google.com/gist/DeepakNair93/573cc1d52f497c685b7a96ce37838dd5/untitled0.ipynb\" target=\"_parent\"><img src=\"https://colab.research.google.com/assets/colab-badge.svg\" alt=\"Open In Colab\"/></a>"
      ]
    },
    {
      "cell_type": "markdown",
      "metadata": {
        "id": "nWlTdQke4ptj"
      },
      "source": [
        "# **Linear Regression - SKLearn Diabetes Dataset**"
      ]
    },
    {
      "cell_type": "markdown",
      "metadata": {
        "id": "6SvvYY1O4zhs"
      },
      "source": [
        "Let us first import the pre-requisite libraries needed to perform the analysis\r\n"
      ]
    },
    {
      "cell_type": "code",
      "metadata": {
        "id": "rXlnGP1U4nlv"
      },
      "source": [
        "import pandas as pd  #for data manipulation.\r\n",
        "import numpy as np   #for scientific computing.\r\n",
        "import sklearn       #for machine learning\r\n",
        "import seaborn as sns #visualization package\r\n",
        "from sklearn.model_selection import train_test_split\r\n",
        "import matplotlib.pyplot as plt #plotting & visualization.\r\n",
        "\r\n",
        "%matplotlib inline  \r\n",
        "#to present the visualizations as a part of the notebook itself"
      ],
      "execution_count": 1,
      "outputs": []
    },
    {
      "cell_type": "markdown",
      "metadata": {
        "id": "6vHJc2xY6_vn"
      },
      "source": [
        "*Let us import the dataset & create a dataframe*"
      ]
    },
    {
      "cell_type": "code",
      "metadata": {
        "id": "eFL2kJV86eOG"
      },
      "source": [
        "#importing the inbuilt dataset in sklearn package for performing regression analysis.\r\n",
        "from sklearn import datasets\r\n",
        "diabetes = datasets.load_diabetes()"
      ],
      "execution_count": 2,
      "outputs": []
    },
    {
      "cell_type": "markdown",
      "metadata": {
        "id": "uw8HXjjN-8de"
      },
      "source": [
        "*Let us learn more about the dataset*"
      ]
    },
    {
      "cell_type": "code",
      "metadata": {
        "colab": {
          "base_uri": "https://localhost:8080/"
        },
        "id": "noECL29j8RYK",
        "outputId": "3f878f9f-7fbb-425b-9b66-2f56a033646a"
      },
      "source": [
        "print(diabetes.DESCR)"
      ],
      "execution_count": 3,
      "outputs": [
        {
          "output_type": "stream",
          "text": [
            ".. _diabetes_dataset:\n",
            "\n",
            "Diabetes dataset\n",
            "----------------\n",
            "\n",
            "Ten baseline variables, age, sex, body mass index, average blood\n",
            "pressure, and six blood serum measurements were obtained for each of n =\n",
            "442 diabetes patients, as well as the response of interest, a\n",
            "quantitative measure of disease progression one year after baseline.\n",
            "\n",
            "**Data Set Characteristics:**\n",
            "\n",
            "  :Number of Instances: 442\n",
            "\n",
            "  :Number of Attributes: First 10 columns are numeric predictive values\n",
            "\n",
            "  :Target: Column 11 is a quantitative measure of disease progression one year after baseline\n",
            "\n",
            "  :Attribute Information:\n",
            "      - Age\n",
            "      - Sex\n",
            "      - Body mass index\n",
            "      - Average blood pressure\n",
            "      - S1\n",
            "      - S2\n",
            "      - S3\n",
            "      - S4\n",
            "      - S5\n",
            "      - S6\n",
            "\n",
            "Note: Each of these 10 feature variables have been mean centered and scaled by the standard deviation times `n_samples` (i.e. the sum of squares of each column totals 1).\n",
            "\n",
            "Source URL:\n",
            "https://www4.stat.ncsu.edu/~boos/var.select/diabetes.html\n",
            "\n",
            "For more information see:\n",
            "Bradley Efron, Trevor Hastie, Iain Johnstone and Robert Tibshirani (2004) \"Least Angle Regression,\" Annals of Statistics (with discussion), 407-499.\n",
            "(https://web.stanford.edu/~hastie/Papers/LARS/LeastAngle_2002.pdf)\n"
          ],
          "name": "stdout"
        }
      ]
    },
    {
      "cell_type": "markdown",
      "metadata": {
        "id": "s0Q11DuW_epf"
      },
      "source": [
        "So we know the that the target/response/dependent varialble to be predicted is a continuous numerical value which is a measure of disease progression after one year.\r\n",
        "\r\n",
        "The features/independent variables we have are the 10 attributes from Age to serum measurement samples"
      ]
    },
    {
      "cell_type": "code",
      "metadata": {
        "colab": {
          "base_uri": "https://localhost:8080/"
        },
        "id": "IYHNaEDy8C17",
        "outputId": "9ca91111-c2ca-4e16-99dd-d561544af439"
      },
      "source": [
        "diabetes.feature_names   #checking the feature names"
      ],
      "execution_count": 4,
      "outputs": [
        {
          "output_type": "execute_result",
          "data": {
            "text/plain": [
              "['age', 'sex', 'bmi', 'bp', 's1', 's2', 's3', 's4', 's5', 's6']"
            ]
          },
          "metadata": {
            "tags": []
          },
          "execution_count": 4
        }
      ]
    },
    {
      "cell_type": "code",
      "metadata": {
        "colab": {
          "base_uri": "https://localhost:8080/"
        },
        "id": "t_A_9BCw8ah-",
        "outputId": "4b224055-60c2-448c-8fcd-87af53af3c50"
      },
      "source": [
        "diabetes.data.shape  #checking the shape of data"
      ],
      "execution_count": 5,
      "outputs": [
        {
          "output_type": "execute_result",
          "data": {
            "text/plain": [
              "(442, 10)"
            ]
          },
          "metadata": {
            "tags": []
          },
          "execution_count": 5
        }
      ]
    },
    {
      "cell_type": "markdown",
      "metadata": {
        "id": "jLF30lfbAlDu"
      },
      "source": [
        "**There are 10 variables & 442 instances/rows**"
      ]
    },
    {
      "cell_type": "code",
      "metadata": {
        "colab": {
          "base_uri": "https://localhost:8080/"
        },
        "id": "kdHS_7x78c0M",
        "outputId": "ce68baeb-9e1d-4f9a-b280-49f244cabd37"
      },
      "source": [
        "diabetes.target.shape"
      ],
      "execution_count": 6,
      "outputs": [
        {
          "output_type": "execute_result",
          "data": {
            "text/plain": [
              "(442,)"
            ]
          },
          "metadata": {
            "tags": []
          },
          "execution_count": 6
        }
      ]
    },
    {
      "cell_type": "markdown",
      "metadata": {
        "id": "NLLQIYYTBzEt"
      },
      "source": [
        "**The Target Variable has 442 rows**"
      ]
    },
    {
      "cell_type": "markdown",
      "metadata": {
        "id": "jPH8LYQBCG15"
      },
      "source": [
        "# Let us Create a Dataframe using this data"
      ]
    },
    {
      "cell_type": "code",
      "metadata": {
        "id": "ixJnp21tCOQt"
      },
      "source": [
        "db_df = pd.DataFrame(diabetes.data,columns=diabetes.feature_names)"
      ],
      "execution_count": 7,
      "outputs": []
    },
    {
      "cell_type": "markdown",
      "metadata": {
        "id": "Gkwo4m66CcPg"
      },
      "source": [
        "We created a pandas dataframe using the dataset."
      ]
    },
    {
      "cell_type": "code",
      "metadata": {
        "colab": {
          "base_uri": "https://localhost:8080/",
          "height": 195
        },
        "id": "g48Xevr1AyG3",
        "outputId": "a127c774-1dc1-49b4-f836-edd61f16d53c"
      },
      "source": [
        "db_df.sample(5)    #checking a sample of the dataframe"
      ],
      "execution_count": 8,
      "outputs": [
        {
          "output_type": "execute_result",
          "data": {
            "text/html": [
              "<div>\n",
              "<style scoped>\n",
              "    .dataframe tbody tr th:only-of-type {\n",
              "        vertical-align: middle;\n",
              "    }\n",
              "\n",
              "    .dataframe tbody tr th {\n",
              "        vertical-align: top;\n",
              "    }\n",
              "\n",
              "    .dataframe thead th {\n",
              "        text-align: right;\n",
              "    }\n",
              "</style>\n",
              "<table border=\"1\" class=\"dataframe\">\n",
              "  <thead>\n",
              "    <tr style=\"text-align: right;\">\n",
              "      <th></th>\n",
              "      <th>age</th>\n",
              "      <th>sex</th>\n",
              "      <th>bmi</th>\n",
              "      <th>bp</th>\n",
              "      <th>s1</th>\n",
              "      <th>s2</th>\n",
              "      <th>s3</th>\n",
              "      <th>s4</th>\n",
              "      <th>s5</th>\n",
              "      <th>s6</th>\n",
              "    </tr>\n",
              "  </thead>\n",
              "  <tbody>\n",
              "    <tr>\n",
              "      <th>404</th>\n",
              "      <td>-0.016412</td>\n",
              "      <td>-0.044642</td>\n",
              "      <td>0.054152</td>\n",
              "      <td>0.070073</td>\n",
              "      <td>-0.033216</td>\n",
              "      <td>-0.027931</td>\n",
              "      <td>0.008142</td>\n",
              "      <td>-0.039493</td>\n",
              "      <td>-0.027129</td>\n",
              "      <td>-0.009362</td>\n",
              "    </tr>\n",
              "    <tr>\n",
              "      <th>207</th>\n",
              "      <td>0.009016</td>\n",
              "      <td>-0.044642</td>\n",
              "      <td>0.045529</td>\n",
              "      <td>0.028758</td>\n",
              "      <td>0.012191</td>\n",
              "      <td>-0.013840</td>\n",
              "      <td>0.026550</td>\n",
              "      <td>-0.039493</td>\n",
              "      <td>0.046132</td>\n",
              "      <td>0.036201</td>\n",
              "    </tr>\n",
              "    <tr>\n",
              "      <th>238</th>\n",
              "      <td>0.034443</td>\n",
              "      <td>0.050680</td>\n",
              "      <td>-0.009439</td>\n",
              "      <td>0.059744</td>\n",
              "      <td>-0.035968</td>\n",
              "      <td>-0.007577</td>\n",
              "      <td>-0.076536</td>\n",
              "      <td>0.071210</td>\n",
              "      <td>0.011008</td>\n",
              "      <td>-0.021788</td>\n",
              "    </tr>\n",
              "    <tr>\n",
              "      <th>60</th>\n",
              "      <td>-0.070900</td>\n",
              "      <td>-0.044642</td>\n",
              "      <td>-0.004050</td>\n",
              "      <td>-0.040099</td>\n",
              "      <td>-0.066239</td>\n",
              "      <td>-0.078662</td>\n",
              "      <td>0.052322</td>\n",
              "      <td>-0.076395</td>\n",
              "      <td>-0.051401</td>\n",
              "      <td>-0.034215</td>\n",
              "    </tr>\n",
              "    <tr>\n",
              "      <th>297</th>\n",
              "      <td>0.001751</td>\n",
              "      <td>-0.044642</td>\n",
              "      <td>-0.008362</td>\n",
              "      <td>-0.064199</td>\n",
              "      <td>-0.038720</td>\n",
              "      <td>-0.024487</td>\n",
              "      <td>0.004460</td>\n",
              "      <td>-0.039493</td>\n",
              "      <td>-0.064683</td>\n",
              "      <td>-0.054925</td>\n",
              "    </tr>\n",
              "  </tbody>\n",
              "</table>\n",
              "</div>"
            ],
            "text/plain": [
              "          age       sex       bmi  ...        s4        s5        s6\n",
              "404 -0.016412 -0.044642  0.054152  ... -0.039493 -0.027129 -0.009362\n",
              "207  0.009016 -0.044642  0.045529  ... -0.039493  0.046132  0.036201\n",
              "238  0.034443  0.050680 -0.009439  ...  0.071210  0.011008 -0.021788\n",
              "60  -0.070900 -0.044642 -0.004050  ... -0.076395 -0.051401 -0.034215\n",
              "297  0.001751 -0.044642 -0.008362  ... -0.039493 -0.064683 -0.054925\n",
              "\n",
              "[5 rows x 10 columns]"
            ]
          },
          "metadata": {
            "tags": []
          },
          "execution_count": 8
        }
      ]
    },
    {
      "cell_type": "markdown",
      "metadata": {
        "id": "5NfZptNhDFbH"
      },
      "source": [
        "Note: As per dataset documentation: **\"Each of these 10 feature variables have been mean centered and scaled by the standard deviation times `n_samples` (i.e. the sum of squares of each column totals 1)\"**. That is the reason we see that the variables to have seemingly odd values,they are centered to bring them to a common scale."
      ]
    },
    {
      "cell_type": "markdown",
      "metadata": {
        "id": "bK0soD_iEDtW"
      },
      "source": [
        "**Add Dependent Variable to the dataset**"
      ]
    },
    {
      "cell_type": "code",
      "metadata": {
        "id": "R2fF-QGPGHuS"
      },
      "source": [
        "db_df['Progression'] = diabetes.target #new column name 'Progression'"
      ],
      "execution_count": 9,
      "outputs": []
    },
    {
      "cell_type": "code",
      "metadata": {
        "colab": {
          "base_uri": "https://localhost:8080/",
          "height": 106
        },
        "id": "rTsArM6IGPls",
        "outputId": "e477176d-de83-4b35-8326-d0a01d57fa77"
      },
      "source": [
        "db_df.sample(2) #checking the dataset once again."
      ],
      "execution_count": 10,
      "outputs": [
        {
          "output_type": "execute_result",
          "data": {
            "text/html": [
              "<div>\n",
              "<style scoped>\n",
              "    .dataframe tbody tr th:only-of-type {\n",
              "        vertical-align: middle;\n",
              "    }\n",
              "\n",
              "    .dataframe tbody tr th {\n",
              "        vertical-align: top;\n",
              "    }\n",
              "\n",
              "    .dataframe thead th {\n",
              "        text-align: right;\n",
              "    }\n",
              "</style>\n",
              "<table border=\"1\" class=\"dataframe\">\n",
              "  <thead>\n",
              "    <tr style=\"text-align: right;\">\n",
              "      <th></th>\n",
              "      <th>age</th>\n",
              "      <th>sex</th>\n",
              "      <th>bmi</th>\n",
              "      <th>bp</th>\n",
              "      <th>s1</th>\n",
              "      <th>s2</th>\n",
              "      <th>s3</th>\n",
              "      <th>s4</th>\n",
              "      <th>s5</th>\n",
              "      <th>s6</th>\n",
              "      <th>Progression</th>\n",
              "    </tr>\n",
              "  </thead>\n",
              "  <tbody>\n",
              "    <tr>\n",
              "      <th>27</th>\n",
              "      <td>-0.023677</td>\n",
              "      <td>-0.044642</td>\n",
              "      <td>0.059541</td>\n",
              "      <td>-0.040099</td>\n",
              "      <td>-0.042848</td>\n",
              "      <td>-0.043589</td>\n",
              "      <td>0.011824</td>\n",
              "      <td>-0.039493</td>\n",
              "      <td>-0.015998</td>\n",
              "      <td>0.040343</td>\n",
              "      <td>85.0</td>\n",
              "    </tr>\n",
              "    <tr>\n",
              "      <th>10</th>\n",
              "      <td>-0.096328</td>\n",
              "      <td>-0.044642</td>\n",
              "      <td>-0.083808</td>\n",
              "      <td>0.008101</td>\n",
              "      <td>-0.103389</td>\n",
              "      <td>-0.090561</td>\n",
              "      <td>-0.013948</td>\n",
              "      <td>-0.076395</td>\n",
              "      <td>-0.062913</td>\n",
              "      <td>-0.034215</td>\n",
              "      <td>101.0</td>\n",
              "    </tr>\n",
              "  </tbody>\n",
              "</table>\n",
              "</div>"
            ],
            "text/plain": [
              "         age       sex       bmi  ...        s5        s6  Progression\n",
              "27 -0.023677 -0.044642  0.059541  ... -0.015998  0.040343         85.0\n",
              "10 -0.096328 -0.044642 -0.083808  ... -0.062913 -0.034215        101.0\n",
              "\n",
              "[2 rows x 11 columns]"
            ]
          },
          "metadata": {
            "tags": []
          },
          "execution_count": 10
        }
      ]
    },
    {
      "cell_type": "code",
      "metadata": {
        "colab": {
          "base_uri": "https://localhost:8080/"
        },
        "id": "nBbVyynPGRTt",
        "outputId": "6732e0c8-216c-4e80-dd23-557d557f78e5"
      },
      "source": [
        "db_df.isna().sum()"
      ],
      "execution_count": 11,
      "outputs": [
        {
          "output_type": "execute_result",
          "data": {
            "text/plain": [
              "age            0\n",
              "sex            0\n",
              "bmi            0\n",
              "bp             0\n",
              "s1             0\n",
              "s2             0\n",
              "s3             0\n",
              "s4             0\n",
              "s5             0\n",
              "s6             0\n",
              "Progression    0\n",
              "dtype: int64"
            ]
          },
          "metadata": {
            "tags": []
          },
          "execution_count": 11
        }
      ]
    },
    {
      "cell_type": "markdown",
      "metadata": {
        "id": "sBQEJGffHSlR"
      },
      "source": [
        "There are no missing values in the dataframe"
      ]
    },
    {
      "cell_type": "code",
      "metadata": {
        "colab": {
          "base_uri": "https://localhost:8080/",
          "height": 284
        },
        "id": "BT-tuYE1HPqN",
        "outputId": "cd6d26f7-5340-4208-fb06-fcc3be7565b8"
      },
      "source": [
        "db_df.describe()   #the below is the summary statistics of the dataset. Since the data is already normalized / scaled it might not have significant meaning."
      ],
      "execution_count": 12,
      "outputs": [
        {
          "output_type": "execute_result",
          "data": {
            "text/html": [
              "<div>\n",
              "<style scoped>\n",
              "    .dataframe tbody tr th:only-of-type {\n",
              "        vertical-align: middle;\n",
              "    }\n",
              "\n",
              "    .dataframe tbody tr th {\n",
              "        vertical-align: top;\n",
              "    }\n",
              "\n",
              "    .dataframe thead th {\n",
              "        text-align: right;\n",
              "    }\n",
              "</style>\n",
              "<table border=\"1\" class=\"dataframe\">\n",
              "  <thead>\n",
              "    <tr style=\"text-align: right;\">\n",
              "      <th></th>\n",
              "      <th>age</th>\n",
              "      <th>sex</th>\n",
              "      <th>bmi</th>\n",
              "      <th>bp</th>\n",
              "      <th>s1</th>\n",
              "      <th>s2</th>\n",
              "      <th>s3</th>\n",
              "      <th>s4</th>\n",
              "      <th>s5</th>\n",
              "      <th>s6</th>\n",
              "      <th>Progression</th>\n",
              "    </tr>\n",
              "  </thead>\n",
              "  <tbody>\n",
              "    <tr>\n",
              "      <th>count</th>\n",
              "      <td>4.420000e+02</td>\n",
              "      <td>4.420000e+02</td>\n",
              "      <td>4.420000e+02</td>\n",
              "      <td>4.420000e+02</td>\n",
              "      <td>4.420000e+02</td>\n",
              "      <td>4.420000e+02</td>\n",
              "      <td>4.420000e+02</td>\n",
              "      <td>4.420000e+02</td>\n",
              "      <td>4.420000e+02</td>\n",
              "      <td>4.420000e+02</td>\n",
              "      <td>442.000000</td>\n",
              "    </tr>\n",
              "    <tr>\n",
              "      <th>mean</th>\n",
              "      <td>-3.634285e-16</td>\n",
              "      <td>1.308343e-16</td>\n",
              "      <td>-8.045349e-16</td>\n",
              "      <td>1.281655e-16</td>\n",
              "      <td>-8.835316e-17</td>\n",
              "      <td>1.327024e-16</td>\n",
              "      <td>-4.574646e-16</td>\n",
              "      <td>3.777301e-16</td>\n",
              "      <td>-3.830854e-16</td>\n",
              "      <td>-3.412882e-16</td>\n",
              "      <td>152.133484</td>\n",
              "    </tr>\n",
              "    <tr>\n",
              "      <th>std</th>\n",
              "      <td>4.761905e-02</td>\n",
              "      <td>4.761905e-02</td>\n",
              "      <td>4.761905e-02</td>\n",
              "      <td>4.761905e-02</td>\n",
              "      <td>4.761905e-02</td>\n",
              "      <td>4.761905e-02</td>\n",
              "      <td>4.761905e-02</td>\n",
              "      <td>4.761905e-02</td>\n",
              "      <td>4.761905e-02</td>\n",
              "      <td>4.761905e-02</td>\n",
              "      <td>77.093005</td>\n",
              "    </tr>\n",
              "    <tr>\n",
              "      <th>min</th>\n",
              "      <td>-1.072256e-01</td>\n",
              "      <td>-4.464164e-02</td>\n",
              "      <td>-9.027530e-02</td>\n",
              "      <td>-1.123996e-01</td>\n",
              "      <td>-1.267807e-01</td>\n",
              "      <td>-1.156131e-01</td>\n",
              "      <td>-1.023071e-01</td>\n",
              "      <td>-7.639450e-02</td>\n",
              "      <td>-1.260974e-01</td>\n",
              "      <td>-1.377672e-01</td>\n",
              "      <td>25.000000</td>\n",
              "    </tr>\n",
              "    <tr>\n",
              "      <th>25%</th>\n",
              "      <td>-3.729927e-02</td>\n",
              "      <td>-4.464164e-02</td>\n",
              "      <td>-3.422907e-02</td>\n",
              "      <td>-3.665645e-02</td>\n",
              "      <td>-3.424784e-02</td>\n",
              "      <td>-3.035840e-02</td>\n",
              "      <td>-3.511716e-02</td>\n",
              "      <td>-3.949338e-02</td>\n",
              "      <td>-3.324879e-02</td>\n",
              "      <td>-3.317903e-02</td>\n",
              "      <td>87.000000</td>\n",
              "    </tr>\n",
              "    <tr>\n",
              "      <th>50%</th>\n",
              "      <td>5.383060e-03</td>\n",
              "      <td>-4.464164e-02</td>\n",
              "      <td>-7.283766e-03</td>\n",
              "      <td>-5.670611e-03</td>\n",
              "      <td>-4.320866e-03</td>\n",
              "      <td>-3.819065e-03</td>\n",
              "      <td>-6.584468e-03</td>\n",
              "      <td>-2.592262e-03</td>\n",
              "      <td>-1.947634e-03</td>\n",
              "      <td>-1.077698e-03</td>\n",
              "      <td>140.500000</td>\n",
              "    </tr>\n",
              "    <tr>\n",
              "      <th>75%</th>\n",
              "      <td>3.807591e-02</td>\n",
              "      <td>5.068012e-02</td>\n",
              "      <td>3.124802e-02</td>\n",
              "      <td>3.564384e-02</td>\n",
              "      <td>2.835801e-02</td>\n",
              "      <td>2.984439e-02</td>\n",
              "      <td>2.931150e-02</td>\n",
              "      <td>3.430886e-02</td>\n",
              "      <td>3.243323e-02</td>\n",
              "      <td>2.791705e-02</td>\n",
              "      <td>211.500000</td>\n",
              "    </tr>\n",
              "    <tr>\n",
              "      <th>max</th>\n",
              "      <td>1.107267e-01</td>\n",
              "      <td>5.068012e-02</td>\n",
              "      <td>1.705552e-01</td>\n",
              "      <td>1.320442e-01</td>\n",
              "      <td>1.539137e-01</td>\n",
              "      <td>1.987880e-01</td>\n",
              "      <td>1.811791e-01</td>\n",
              "      <td>1.852344e-01</td>\n",
              "      <td>1.335990e-01</td>\n",
              "      <td>1.356118e-01</td>\n",
              "      <td>346.000000</td>\n",
              "    </tr>\n",
              "  </tbody>\n",
              "</table>\n",
              "</div>"
            ],
            "text/plain": [
              "                age           sex  ...            s6  Progression\n",
              "count  4.420000e+02  4.420000e+02  ...  4.420000e+02   442.000000\n",
              "mean  -3.634285e-16  1.308343e-16  ... -3.412882e-16   152.133484\n",
              "std    4.761905e-02  4.761905e-02  ...  4.761905e-02    77.093005\n",
              "min   -1.072256e-01 -4.464164e-02  ... -1.377672e-01    25.000000\n",
              "25%   -3.729927e-02 -4.464164e-02  ... -3.317903e-02    87.000000\n",
              "50%    5.383060e-03 -4.464164e-02  ... -1.077698e-03   140.500000\n",
              "75%    3.807591e-02  5.068012e-02  ...  2.791705e-02   211.500000\n",
              "max    1.107267e-01  5.068012e-02  ...  1.356118e-01   346.000000\n",
              "\n",
              "[8 rows x 11 columns]"
            ]
          },
          "metadata": {
            "tags": []
          },
          "execution_count": 12
        }
      ]
    },
    {
      "cell_type": "code",
      "metadata": {
        "colab": {
          "base_uri": "https://localhost:8080/"
        },
        "id": "NUEgyDVMHgku",
        "outputId": "7b8378aa-0f3a-4757-c78f-04e426194592"
      },
      "source": [
        "db_df.info()  #Getting the information about the dataframe, the datatypes etc. There is not much descrepency in data types."
      ],
      "execution_count": 13,
      "outputs": [
        {
          "output_type": "stream",
          "text": [
            "<class 'pandas.core.frame.DataFrame'>\n",
            "RangeIndex: 442 entries, 0 to 441\n",
            "Data columns (total 11 columns):\n",
            " #   Column       Non-Null Count  Dtype  \n",
            "---  ------       --------------  -----  \n",
            " 0   age          442 non-null    float64\n",
            " 1   sex          442 non-null    float64\n",
            " 2   bmi          442 non-null    float64\n",
            " 3   bp           442 non-null    float64\n",
            " 4   s1           442 non-null    float64\n",
            " 5   s2           442 non-null    float64\n",
            " 6   s3           442 non-null    float64\n",
            " 7   s4           442 non-null    float64\n",
            " 8   s5           442 non-null    float64\n",
            " 9   s6           442 non-null    float64\n",
            " 10  Progression  442 non-null    float64\n",
            "dtypes: float64(11)\n",
            "memory usage: 38.1 KB\n"
          ],
          "name": "stdout"
        }
      ]
    },
    {
      "cell_type": "markdown",
      "metadata": {
        "id": "IalW5FWnIDgW"
      },
      "source": [
        "**Let us check the Linear correlation between the variables in the dataframe**"
      ]
    },
    {
      "cell_type": "code",
      "metadata": {
        "colab": {
          "base_uri": "https://localhost:8080/",
          "height": 373
        },
        "id": "3Me2wZ9JIC2L",
        "outputId": "a1b95db4-043e-4edc-c77f-47576d50f3e8"
      },
      "source": [
        "corr = db_df.corr()\r\n",
        "corr"
      ],
      "execution_count": 14,
      "outputs": [
        {
          "output_type": "execute_result",
          "data": {
            "text/html": [
              "<div>\n",
              "<style scoped>\n",
              "    .dataframe tbody tr th:only-of-type {\n",
              "        vertical-align: middle;\n",
              "    }\n",
              "\n",
              "    .dataframe tbody tr th {\n",
              "        vertical-align: top;\n",
              "    }\n",
              "\n",
              "    .dataframe thead th {\n",
              "        text-align: right;\n",
              "    }\n",
              "</style>\n",
              "<table border=\"1\" class=\"dataframe\">\n",
              "  <thead>\n",
              "    <tr style=\"text-align: right;\">\n",
              "      <th></th>\n",
              "      <th>age</th>\n",
              "      <th>sex</th>\n",
              "      <th>bmi</th>\n",
              "      <th>bp</th>\n",
              "      <th>s1</th>\n",
              "      <th>s2</th>\n",
              "      <th>s3</th>\n",
              "      <th>s4</th>\n",
              "      <th>s5</th>\n",
              "      <th>s6</th>\n",
              "      <th>Progression</th>\n",
              "    </tr>\n",
              "  </thead>\n",
              "  <tbody>\n",
              "    <tr>\n",
              "      <th>age</th>\n",
              "      <td>1.000000</td>\n",
              "      <td>0.173737</td>\n",
              "      <td>0.185085</td>\n",
              "      <td>0.335427</td>\n",
              "      <td>0.260061</td>\n",
              "      <td>0.219243</td>\n",
              "      <td>-0.075181</td>\n",
              "      <td>0.203841</td>\n",
              "      <td>0.270777</td>\n",
              "      <td>0.301731</td>\n",
              "      <td>0.187889</td>\n",
              "    </tr>\n",
              "    <tr>\n",
              "      <th>sex</th>\n",
              "      <td>0.173737</td>\n",
              "      <td>1.000000</td>\n",
              "      <td>0.088161</td>\n",
              "      <td>0.241013</td>\n",
              "      <td>0.035277</td>\n",
              "      <td>0.142637</td>\n",
              "      <td>-0.379090</td>\n",
              "      <td>0.332115</td>\n",
              "      <td>0.149918</td>\n",
              "      <td>0.208133</td>\n",
              "      <td>0.043062</td>\n",
              "    </tr>\n",
              "    <tr>\n",
              "      <th>bmi</th>\n",
              "      <td>0.185085</td>\n",
              "      <td>0.088161</td>\n",
              "      <td>1.000000</td>\n",
              "      <td>0.395415</td>\n",
              "      <td>0.249777</td>\n",
              "      <td>0.261170</td>\n",
              "      <td>-0.366811</td>\n",
              "      <td>0.413807</td>\n",
              "      <td>0.446159</td>\n",
              "      <td>0.388680</td>\n",
              "      <td>0.586450</td>\n",
              "    </tr>\n",
              "    <tr>\n",
              "      <th>bp</th>\n",
              "      <td>0.335427</td>\n",
              "      <td>0.241013</td>\n",
              "      <td>0.395415</td>\n",
              "      <td>1.000000</td>\n",
              "      <td>0.242470</td>\n",
              "      <td>0.185558</td>\n",
              "      <td>-0.178761</td>\n",
              "      <td>0.257653</td>\n",
              "      <td>0.393478</td>\n",
              "      <td>0.390429</td>\n",
              "      <td>0.441484</td>\n",
              "    </tr>\n",
              "    <tr>\n",
              "      <th>s1</th>\n",
              "      <td>0.260061</td>\n",
              "      <td>0.035277</td>\n",
              "      <td>0.249777</td>\n",
              "      <td>0.242470</td>\n",
              "      <td>1.000000</td>\n",
              "      <td>0.896663</td>\n",
              "      <td>0.051519</td>\n",
              "      <td>0.542207</td>\n",
              "      <td>0.515501</td>\n",
              "      <td>0.325717</td>\n",
              "      <td>0.212022</td>\n",
              "    </tr>\n",
              "    <tr>\n",
              "      <th>s2</th>\n",
              "      <td>0.219243</td>\n",
              "      <td>0.142637</td>\n",
              "      <td>0.261170</td>\n",
              "      <td>0.185558</td>\n",
              "      <td>0.896663</td>\n",
              "      <td>1.000000</td>\n",
              "      <td>-0.196455</td>\n",
              "      <td>0.659817</td>\n",
              "      <td>0.318353</td>\n",
              "      <td>0.290600</td>\n",
              "      <td>0.174054</td>\n",
              "    </tr>\n",
              "    <tr>\n",
              "      <th>s3</th>\n",
              "      <td>-0.075181</td>\n",
              "      <td>-0.379090</td>\n",
              "      <td>-0.366811</td>\n",
              "      <td>-0.178761</td>\n",
              "      <td>0.051519</td>\n",
              "      <td>-0.196455</td>\n",
              "      <td>1.000000</td>\n",
              "      <td>-0.738493</td>\n",
              "      <td>-0.398577</td>\n",
              "      <td>-0.273697</td>\n",
              "      <td>-0.394789</td>\n",
              "    </tr>\n",
              "    <tr>\n",
              "      <th>s4</th>\n",
              "      <td>0.203841</td>\n",
              "      <td>0.332115</td>\n",
              "      <td>0.413807</td>\n",
              "      <td>0.257653</td>\n",
              "      <td>0.542207</td>\n",
              "      <td>0.659817</td>\n",
              "      <td>-0.738493</td>\n",
              "      <td>1.000000</td>\n",
              "      <td>0.617857</td>\n",
              "      <td>0.417212</td>\n",
              "      <td>0.430453</td>\n",
              "    </tr>\n",
              "    <tr>\n",
              "      <th>s5</th>\n",
              "      <td>0.270777</td>\n",
              "      <td>0.149918</td>\n",
              "      <td>0.446159</td>\n",
              "      <td>0.393478</td>\n",
              "      <td>0.515501</td>\n",
              "      <td>0.318353</td>\n",
              "      <td>-0.398577</td>\n",
              "      <td>0.617857</td>\n",
              "      <td>1.000000</td>\n",
              "      <td>0.464670</td>\n",
              "      <td>0.565883</td>\n",
              "    </tr>\n",
              "    <tr>\n",
              "      <th>s6</th>\n",
              "      <td>0.301731</td>\n",
              "      <td>0.208133</td>\n",
              "      <td>0.388680</td>\n",
              "      <td>0.390429</td>\n",
              "      <td>0.325717</td>\n",
              "      <td>0.290600</td>\n",
              "      <td>-0.273697</td>\n",
              "      <td>0.417212</td>\n",
              "      <td>0.464670</td>\n",
              "      <td>1.000000</td>\n",
              "      <td>0.382483</td>\n",
              "    </tr>\n",
              "    <tr>\n",
              "      <th>Progression</th>\n",
              "      <td>0.187889</td>\n",
              "      <td>0.043062</td>\n",
              "      <td>0.586450</td>\n",
              "      <td>0.441484</td>\n",
              "      <td>0.212022</td>\n",
              "      <td>0.174054</td>\n",
              "      <td>-0.394789</td>\n",
              "      <td>0.430453</td>\n",
              "      <td>0.565883</td>\n",
              "      <td>0.382483</td>\n",
              "      <td>1.000000</td>\n",
              "    </tr>\n",
              "  </tbody>\n",
              "</table>\n",
              "</div>"
            ],
            "text/plain": [
              "                  age       sex       bmi  ...        s5        s6  Progression\n",
              "age          1.000000  0.173737  0.185085  ...  0.270777  0.301731     0.187889\n",
              "sex          0.173737  1.000000  0.088161  ...  0.149918  0.208133     0.043062\n",
              "bmi          0.185085  0.088161  1.000000  ...  0.446159  0.388680     0.586450\n",
              "bp           0.335427  0.241013  0.395415  ...  0.393478  0.390429     0.441484\n",
              "s1           0.260061  0.035277  0.249777  ...  0.515501  0.325717     0.212022\n",
              "s2           0.219243  0.142637  0.261170  ...  0.318353  0.290600     0.174054\n",
              "s3          -0.075181 -0.379090 -0.366811  ... -0.398577 -0.273697    -0.394789\n",
              "s4           0.203841  0.332115  0.413807  ...  0.617857  0.417212     0.430453\n",
              "s5           0.270777  0.149918  0.446159  ...  1.000000  0.464670     0.565883\n",
              "s6           0.301731  0.208133  0.388680  ...  0.464670  1.000000     0.382483\n",
              "Progression  0.187889  0.043062  0.586450  ...  0.565883  0.382483     1.000000\n",
              "\n",
              "[11 rows x 11 columns]"
            ]
          },
          "metadata": {
            "tags": []
          },
          "execution_count": 14
        }
      ]
    },
    {
      "cell_type": "markdown",
      "metadata": {
        "id": "3-FMUCEuIVjJ"
      },
      "source": [
        "**Let us visualize the correlation matrix for better understanding**"
      ]
    },
    {
      "cell_type": "code",
      "metadata": {
        "colab": {
          "base_uri": "https://localhost:8080/",
          "height": 535
        },
        "id": "tcHifibSHuPJ",
        "outputId": "d4d0ab43-2f24-494c-e333-aed459bd7660"
      },
      "source": [
        "plt.subplots(figsize=(8,8))\r\n",
        "sns.heatmap(corr,cmap= 'RdYlGn',annot=True)\r\n",
        "plt.show()"
      ],
      "execution_count": 15,
      "outputs": [
        {
          "output_type": "display_data",
          "data": {
            "image/png": "[encoded data removed]",
            "text/plain": [
              "<Figure size 576x576 with 2 Axes>"
            ]
          },
          "metadata": {
            "tags": [],
            "needs_background": "light"
          }
        }
      ]
    },
    {
      "cell_type": "markdown",
      "metadata": {
        "id": "kfytffPdJ_bz"
      },
      "source": [
        "This plot shows the linear correlation between the variables within themselves & also variables with the target 'Progression'. This could be a phase where the variables which are multicollinear can be eliminated. Since this example will serve as an example of methodology followed in builiding a model, we are not going for feature selection (which will be an article in itself). "
      ]
    },
    {
      "cell_type": "markdown",
      "metadata": {
        "id": "oHq2SY6IKrvV"
      },
      "source": [
        "# MODELLING"
      ]
    },
    {
      "cell_type": "markdown",
      "metadata": {
        "id": "A5Q0vuEHKxy_"
      },
      "source": [
        "**1) Create Features & Target.**\r\n",
        "\r\n",
        "---\r\n",
        "\r\n",
        "We will create an variable 'x' which will hold all the feature columns & another\r\n",
        "variable 'y' which will hold the target column."
      ]
    },
    {
      "cell_type": "code",
      "metadata": {
        "id": "ty2GxP-0Iru5"
      },
      "source": [
        "#independent variables / explanatory variables\r\n",
        "x = db_df.drop(labels='Progression', axis=1)  #axis=1 means we drop data by column.\r\n",
        "\r\n",
        "#dependent variable / response / target variable.\r\n",
        "y = db_df['Progression']"
      ],
      "execution_count": 16,
      "outputs": []
    },
    {
      "cell_type": "markdown",
      "metadata": {
        "id": "YZzjUA5mLwLP"
      },
      "source": [
        "---\r\n",
        "Now x contains independent variables & y the target variable instances."
      ]
    },
    {
      "cell_type": "markdown",
      "metadata": {
        "id": "MD_OZb_tOm1_"
      },
      "source": [
        "**2) Create a train test split here**"
      ]
    },
    {
      "cell_type": "code",
      "metadata": {
        "colab": {
          "base_uri": "https://localhost:8080/"
        },
        "id": "WXHYbg1wLuRD",
        "outputId": "2206f2d5-1cd1-4475-a056-b51eb66e6f6e"
      },
      "source": [
        "#splitting the dataset into 75%-25% train-test split \r\n",
        "train_x, test_x, train_y, test_y = train_test_split(x,y,test_size=0.25,random_state=999)\r\n",
        "print(train_x.shape)\r\n",
        "print(test_x.shape)\r\n",
        "print(train_y.shape)\r\n",
        "print(test_y.shape)"
      ],
      "execution_count": 21,
      "outputs": [
        {
          "output_type": "stream",
          "text": [
            "(331, 10)\n",
            "(111, 10)\n",
            "(331,)\n",
            "(111,)\n"
          ],
          "name": "stdout"
        }
      ]
    },
    {
      "cell_type": "markdown",
      "metadata": {
        "id": "TK2BMpJ4P8tY"
      },
      "source": [
        "**3) Create instance of a model**"
      ]
    },
    {
      "cell_type": "code",
      "metadata": {
        "id": "3kdgWZHRLr55"
      },
      "source": [
        "#let us import the linear regression from sklearn & create instance of the model.\r\n",
        "\r\n",
        "from sklearn.linear_model import LinearRegression\r\n",
        "lm = LinearRegression()"
      ],
      "execution_count": 22,
      "outputs": []
    },
    {
      "cell_type": "code",
      "metadata": {
        "colab": {
          "base_uri": "https://localhost:8080/"
        },
        "id": "NKvpfqfvQcwM",
        "outputId": "67ff5a12-9458-49bc-8e8d-a0b843b334f8"
      },
      "source": [
        "print(lm)\r\n",
        "print(type(lm))"
      ],
      "execution_count": 23,
      "outputs": [
        {
          "output_type": "stream",
          "text": [
            "LinearRegression(copy_X=True, fit_intercept=True, n_jobs=None, normalize=False)\n",
            "<class 'sklearn.linear_model._base.LinearRegression'>\n"
          ],
          "name": "stdout"
        }
      ]
    },
    {
      "cell_type": "markdown",
      "metadata": {
        "id": "8i6CvmuVRfEE"
      },
      "source": [
        "**4) Fit the model by passing:**\r\n",
        "\r\n",
        "1. **Independent variables: train_x**\r\n",
        "2. **Dependent : train_y ,**\r\n",
        "\r\n",
        "**& training the model**"
      ]
    },
    {
      "cell_type": "code",
      "metadata": {
        "colab": {
          "base_uri": "https://localhost:8080/"
        },
        "id": "8WE5NdU3Qqx_",
        "outputId": "bdbe614d-ee64-4eff-9498-264e576c1410"
      },
      "source": [
        "lm.fit(train_x, train_y)"
      ],
      "execution_count": 24,
      "outputs": [
        {
          "output_type": "execute_result",
          "data": {
            "text/plain": [
              "LinearRegression(copy_X=True, fit_intercept=True, n_jobs=None, normalize=False)"
            ]
          },
          "metadata": {
            "tags": []
          },
          "execution_count": 24
        }
      ]
    },
    {
      "cell_type": "markdown",
      "metadata": {
        "id": "MyjfD-AlTOpq"
      },
      "source": [
        "Now the model is trained, so we can now pass the test features to get predictions out of the model. Let, us do that.\r\n",
        "\r\n",
        "**5) Predict the progression of diabetes based on test data** "
      ]
    },
    {
      "cell_type": "code",
      "metadata": {
        "id": "Mn03skmOSfQQ"
      },
      "source": [
        "predicted_y = lm.predict(test_x)"
      ],
      "execution_count": 30,
      "outputs": []
    },
    {
      "cell_type": "markdown",
      "metadata": {
        "id": "V7i-lLUeVcQa"
      },
      "source": [
        "Now that we have predicted the 'Progression', it is time to evaluate the model which we have made."
      ]
    },
    {
      "cell_type": "markdown",
      "metadata": {
        "id": "Dh4yjceuVoU1"
      },
      "source": [
        "**6) Evaluate the Model**"
      ]
    },
    {
      "cell_type": "code",
      "metadata": {
        "id": "JkEDJKdQVXSX"
      },
      "source": [
        "#let us import metrics from sklearn to evaluate the model. Refer https://scikit-learn.org/stable/modules/model_evaluation.html for more details.\r\n",
        "from sklearn import metrics as mt"
      ],
      "execution_count": 37,
      "outputs": []
    },
    {
      "cell_type": "code",
      "metadata": {
        "colab": {
          "base_uri": "https://localhost:8080/"
        },
        "id": "hWpUY9SIWI4h",
        "outputId": "bef5963c-c489-4d88-a4e2-c6096e9c360f"
      },
      "source": [
        "print(\"1) The model explains,\", np.round(mt.explained_variance_score(test_y,predicted_y)*100,2),\"% variance of the target w.r.t features is\")\r\n",
        "print(\"2) The Mean Absolute Error of model is:\", np.round(mt.mean_absolute_error(test_y,predicted_y ),2))\r\n",
        "print(\"3) The R-Square score of the model is \" , np.round(mt.r2_score(test_y,predicted_y),2))"
      ],
      "execution_count": 80,
      "outputs": [
        {
          "output_type": "stream",
          "text": [
            "1) The model explains, 57.57 % variance of the target w.r.t features is\n",
            "2) The Mean Absolute Error of model is: 38.08\n",
            "3) The R-Square score of the model is  0.56\n"
          ],
          "name": "stdout"
        }
      ]
    },
    {
      "cell_type": "markdown",
      "metadata": {
        "id": "W6PUaRKsciKx"
      },
      "source": [
        "**Below are the Coefficients & intercepts of the Regression Equation as calculated by the model.**"
      ]
    },
    {
      "cell_type": "code",
      "metadata": {
        "id": "InKSklnpYksH"
      },
      "source": [
        "coeff = pd.Series(lm.coef_, index = train_x.columns)\r\n",
        "intercept = lm.intercept_"
      ],
      "execution_count": 43,
      "outputs": []
    },
    {
      "cell_type": "code",
      "metadata": {
        "colab": {
          "base_uri": "https://localhost:8080/"
        },
        "id": "3j23ArqeaWdC",
        "outputId": "48babc01-2f5b-4e58-e34d-fa0fc6d93309"
      },
      "source": [
        "print(\"Coefficients:\\n\")\r\n",
        "print(coeff)\r\n",
        "print(\"\\n\")\r\n",
        "print(\"Intercept:\\n\")\r\n",
        "print(intercept)\r\n",
        "print(\"\\n\")\r\n"
      ],
      "execution_count": 56,
      "outputs": [
        {
          "output_type": "stream",
          "text": [
            "Coefficients:\n",
            "\n",
            "age     54.820535\n",
            "sex   -260.930304\n",
            "bmi    458.001802\n",
            "bp     303.502332\n",
            "s1    -995.584889\n",
            "s2     698.811401\n",
            "s3     183.095229\n",
            "s4     185.698494\n",
            "s5     838.503887\n",
            "s6      96.441048\n",
            "dtype: float64\n",
            "\n",
            "\n",
            "Intercept:\n",
            "\n",
            "154.42752615353518\n",
            "\n",
            "\n"
          ],
          "name": "stdout"
        }
      ]
    },
    {
      "cell_type": "markdown",
      "metadata": {
        "id": "uZs60ggCdlLF"
      },
      "source": [
        "**The regression Equation would be :**\r\n",
        "\r\n",
        "**Diabetes Progression = Intercept + coeff(1) X age + coeff(2) X sex +.....+ coeff(10) X s6**\r\n"
      ]
    },
    {
      "cell_type": "markdown",
      "metadata": {
        "id": "bWyJ08JAgAlp"
      },
      "source": [
        "---\r\n",
        "\r\n"
      ]
    },
    {
      "cell_type": "markdown",
      "metadata": {
        "id": "EGVapiGlfV_J"
      },
      "source": [
        "\r\n",
        "## Let us use another package called Statsmodel & build another model. Statsmodel \r\n",
        "## package gives a better summary of the model parameters w.r.t Linear Regression"
      ]
    },
    {
      "cell_type": "code",
      "metadata": {
        "id": "UcUa1WhdfVow"
      },
      "source": [
        "import statsmodels.api as sm"
      ],
      "execution_count": 61,
      "outputs": []
    },
    {
      "cell_type": "markdown",
      "metadata": {
        "id": "Sksv7-puh_rY"
      },
      "source": [
        "In this package we pass the Predictor column & the input columns through OLS function to build & train the model. There is no train-test split since this is regression model & accuracy is calculated based on the closeness of predictions, unlike categories in classification case. SK-Learn is basically a package for prediction which is why we had to do a train-test split."
      ]
    },
    {
      "cell_type": "code",
      "metadata": {
        "colab": {
          "base_uri": "https://localhost:8080/",
          "height": 47
        },
        "id": "1TJw_ugtqOa9",
        "outputId": "7804c693-733f-4cde-f39f-9344663729e1"
      },
      "source": [
        "db_df.head(0)"
      ],
      "execution_count": 72,
      "outputs": [
        {
          "output_type": "execute_result",
          "data": {
            "text/html": [
              "<div>\n",
              "<style scoped>\n",
              "    .dataframe tbody tr th:only-of-type {\n",
              "        vertical-align: middle;\n",
              "    }\n",
              "\n",
              "    .dataframe tbody tr th {\n",
              "        vertical-align: top;\n",
              "    }\n",
              "\n",
              "    .dataframe thead th {\n",
              "        text-align: right;\n",
              "    }\n",
              "</style>\n",
              "<table border=\"1\" class=\"dataframe\">\n",
              "  <thead>\n",
              "    <tr style=\"text-align: right;\">\n",
              "      <th></th>\n",
              "      <th>age</th>\n",
              "      <th>sex</th>\n",
              "      <th>bmi</th>\n",
              "      <th>bp</th>\n",
              "      <th>s1</th>\n",
              "      <th>s2</th>\n",
              "      <th>s3</th>\n",
              "      <th>s4</th>\n",
              "      <th>s5</th>\n",
              "      <th>s6</th>\n",
              "      <th>Progression</th>\n",
              "    </tr>\n",
              "  </thead>\n",
              "  <tbody>\n",
              "  </tbody>\n",
              "</table>\n",
              "</div>"
            ],
            "text/plain": [
              "Empty DataFrame\n",
              "Columns: [age, sex, bmi, bp, s1, s2, s3, s4, s5, s6, Progression]\n",
              "Index: []"
            ]
          },
          "metadata": {
            "tags": []
          },
          "execution_count": 72
        }
      ]
    },
    {
      "cell_type": "code",
      "metadata": {
        "id": "6JYL7DWqfTlV"
      },
      "source": [
        "lm2 = sm.OLS.from_formula(\"Progression ~ age+sex+bmi+bp+s1+s2+s3+s4+s5+s6\", data=db_df)\r\n",
        "# Predictor -> Progression\r\n",
        "# Features -> age, sex etc.We are using '+' sign to just indicate all columns to be considered. There is no addition happening.\r\n",
        "\r\n",
        "trained_lm2 = lm2.fit()"
      ],
      "execution_count": 76,
      "outputs": []
    },
    {
      "cell_type": "code",
      "metadata": {
        "id": "fS-bMLcbiqlN"
      },
      "source": [
        "predictions = trained_lm2.predict(x)"
      ],
      "execution_count": 77,
      "outputs": []
    },
    {
      "cell_type": "code",
      "metadata": {
        "colab": {
          "base_uri": "https://localhost:8080/"
        },
        "id": "sOCW6vk0iv-x",
        "outputId": "c53fcb54-0a18-4ff4-f9fd-13c8ceda9f48"
      },
      "source": [
        "predictions.head()"
      ],
      "execution_count": 78,
      "outputs": [
        {
          "output_type": "execute_result",
          "data": {
            "text/plain": [
              "0    206.117070\n",
              "1     68.072348\n",
              "2    176.884060\n",
              "3    166.917966\n",
              "4    128.459842\n",
              "dtype: float64"
            ]
          },
          "metadata": {
            "tags": []
          },
          "execution_count": 78
        }
      ]
    },
    {
      "cell_type": "code",
      "metadata": {
        "colab": {
          "base_uri": "https://localhost:8080/"
        },
        "id": "T6Nkbvr1i1S9",
        "outputId": "ba5ba4ae-c7fe-45b3-d44e-f5b9ea52c203"
      },
      "source": [
        "summary_model = trained_lm2.summary()\r\n",
        "print(summary_model)"
      ],
      "execution_count": 79,
      "outputs": [
        {
          "output_type": "stream",
          "text": [
            "                            OLS Regression Results                            \n",
            "==============================================================================\n",
            "Dep. Variable:            Progression   R-squared:                       0.518\n",
            "Model:                            OLS   Adj. R-squared:                  0.507\n",
            "Method:                 Least Squares   F-statistic:                     46.27\n",
            "Date:                Sun, 21 Feb 2021   Prob (F-statistic):           3.83e-62\n",
            "Time:                        08:24:07   Log-Likelihood:                -2386.0\n",
            "No. Observations:                 442   AIC:                             4794.\n",
            "Df Residuals:                     431   BIC:                             4839.\n",
            "Df Model:                          10                                         \n",
            "Covariance Type:            nonrobust                                         \n",
            "==============================================================================\n",
            "                 coef    std err          t      P>|t|      [0.025      0.975]\n",
            "------------------------------------------------------------------------------\n",
            "Intercept    152.1335      2.576     59.061      0.000     147.071     157.196\n",
            "age          -10.0122     59.749     -0.168      0.867    -127.448     107.424\n",
            "sex         -239.8191     61.222     -3.917      0.000    -360.151    -119.488\n",
            "bmi          519.8398     66.534      7.813      0.000     389.069     650.610\n",
            "bp           324.3904     65.422      4.958      0.000     195.805     452.976\n",
            "s1          -792.1842    416.684     -1.901      0.058   -1611.169      26.801\n",
            "s2           476.7458    339.035      1.406      0.160    -189.621    1143.113\n",
            "s3           101.0446    212.533      0.475      0.635    -316.685     518.774\n",
            "s4           177.0642    161.476      1.097      0.273    -140.313     494.442\n",
            "s5           751.2793    171.902      4.370      0.000     413.409    1089.150\n",
            "s6            67.6254     65.984      1.025      0.306     -62.065     197.316\n",
            "==============================================================================\n",
            "Omnibus:                        1.506   Durbin-Watson:                   2.029\n",
            "Prob(Omnibus):                  0.471   Jarque-Bera (JB):                1.404\n",
            "Skew:                           0.017   Prob(JB):                        0.496\n",
            "Kurtosis:                       2.726   Cond. No.                         227.\n",
            "==============================================================================\n",
            "\n",
            "Warnings:\n",
            "[1] Standard Errors assume that the covariance matrix of the errors is correctly specified.\n"
          ],
          "name": "stdout"
        }
      ]
    },
    {
      "cell_type": "markdown",
      "metadata": {
        "id": "rfFt5unIsQMy"
      },
      "source": [
        "---\r\n",
        "\r\n",
        "Let us analyze the summary of the Linear Regression Model we have created.\r\n",
        "\r\n",
        "1. **Adj. R Squared : 0.507** - 50.7% of the variation in the predictor variable \"Progression\" can be explained by the features / independent variable.(We do not consider R-Squared since it does not account for bias)\r\n",
        "\r\n",
        "2. **Prob (F-statistic):3.83e-62** - This low a value would imply that at least some of the regression parameters are nonzero and that the regression equation does have some validity in fitting the data (i.e., the independent variables are not purely random with respect to the dependent variable).\r\n",
        "\r\n",
        "3. **Durbin-Watson:2.029** - Durbin Watson test is a test for Homoscedasticity.If Durbin Watson score is 2 then there is no correlation. If less than 2 the independent variables are positively correlated & if more than 2, then it is negatively correlated. In our case, since the score is close to \r\n",
        ", we can assume there is no correlation among the residuals.\r\n",
        "\r\n",
        "\r\n"
      ]
    }
  ]
}